{
 "cells": [
  {
   "cell_type": "code",
   "execution_count": 16,
   "id": "362cd4a2",
   "metadata": {},
   "outputs": [],
   "source": [
    "from IPython.core.interactiveshell import InteractiveShell\n",
    "InteractiveShell.ast_node_interactivity = \"all\"\n",
    "import re    # import re module\n",
    "import nltk\n",
    "from nltk.sentiment.vader import SentimentIntensityAnalyzer\n",
    "from nltk import tokenize\n",
    "import xlsxwriter\n",
    "import openpyxl"
   ]
  },
  {
   "cell_type": "code",
   "execution_count": 17,
   "id": "dce07634",
   "metadata": {},
   "outputs": [],
   "source": [
    "def senti(text):\n",
    "    sid = SentimentIntensityAnalyzer()\n",
    "    sid.lexicon.pop('marvel')\n",
    "\n",
    "    sentiment = sid.polarity_scores(text)\n",
    "    return sentiment"
   ]
  },
  {
   "cell_type": "code",
   "execution_count": 18,
   "id": "4e7e60c7",
   "metadata": {},
   "outputs": [],
   "source": [
    "def process(excel, sheet, col, add_col):\n",
    "    \n",
    "    #get the objective column\n",
    "    workbook = openpyxl.load_workbook(excel)\n",
    "    table = workbook[sheet]\n",
    "    col_content = table[col]\n",
    "    \n",
    "    #convert the content in objective column into list type\n",
    "    lis = []\n",
    "    for cell in col_content:\n",
    "        lis.append(cell.value)\n",
    "\n",
    "    row = 1\n",
    "    colu = add_col\n",
    "    #analysis sentiment for each cell, add the number of posi word and nega word and the sentiment into the excel\n",
    "    for doc in lis:\n",
    "        try:\n",
    "            if doc != None:\n",
    "                cont = senti(doc)\n",
    "                table.cell(row,colu).value = cont['neg']\n",
    "                table.cell(row,colu+1).value = cont['neu']\n",
    "                table.cell(row,colu+2).value = cont['pos']\n",
    "                table.cell(row,colu+3).value = cont['compound']\n",
    "        except:\n",
    "            continue\n",
    "        row += 1\n",
    "    \n",
    "    #save and rename the excel\n",
    "    workbook.save(filename = 'sented_' + excel)"
   ]
  },
  {
   "cell_type": "code",
   "execution_count": 19,
   "id": "3fdaf035",
   "metadata": {},
   "outputs": [],
   "source": [
    "exc = 'critics-review.xlsx'\n",
    "sheet = 'sheet1'\n",
    "col = 'B'\n",
    "add_col = 5\n",
    "process(exc, sheet, col, add_col)"
   ]
  },
  {
   "cell_type": "code",
   "execution_count": null,
   "id": "e68fb32c",
   "metadata": {},
   "outputs": [],
   "source": []
  },
  {
   "cell_type": "code",
   "execution_count": null,
   "id": "1e403a27",
   "metadata": {},
   "outputs": [],
   "source": []
  },
  {
   "cell_type": "code",
   "execution_count": null,
   "id": "492244d0",
   "metadata": {},
   "outputs": [],
   "source": []
  }
 ],
 "metadata": {
  "kernelspec": {
   "display_name": "Python 3 (ipykernel)",
   "language": "python",
   "name": "python3"
  },
  "language_info": {
   "codemirror_mode": {
    "name": "ipython",
    "version": 3
   },
   "file_extension": ".py",
   "mimetype": "text/x-python",
   "name": "python",
   "nbconvert_exporter": "python",
   "pygments_lexer": "ipython3",
   "version": "3.10.0"
  }
 },
 "nbformat": 4,
 "nbformat_minor": 5
}
