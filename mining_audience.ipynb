{
 "cells": [
  {
   "cell_type": "code",
   "execution_count": 1,
   "id": "8dc54e5f",
   "metadata": {},
   "outputs": [],
   "source": [
    "#install the package I need \n",
    "from selenium.webdriver.support.ui import Select\n",
    "from selenium import webdriver\n",
    "import requests\n",
    "from bs4 import BeautifulSoup\n",
    "import pandas as pd"
   ]
  },
  {
   "cell_type": "markdown",
   "id": "36d3642a",
   "metadata": {},
   "source": [
    "**STEP:**\n",
    "first, I create the empty list and string,\n",
    " second, I input the `url` to request function,\n",
    " thrid, if status_code=200 indicates success\n",
    " and status_code >200 indicates a failure, therefore, my status_code is success\n",
    " then, follow the path down to the div for each period \n",
    " ,get the `name` of audience\n",
    " ,get the `review` of audience\n",
    ", and get the `date` of audience\n",
    " finally, add `name`, `review` and `date` into a list"
   ]
  },
  {
   "cell_type": "code",
   "execution_count": 2,
   "id": "011395b0",
   "metadata": {},
   "outputs": [
    {
     "name": "stdout",
     "output_type": "stream",
     "text": [
      "[['Michele M', \"How to finish a FANTASTIC saga.\\nEven if it's a bit boring all the time, nobody forgets the final battle, unforgettable !!!\\nGreat action sequences with unique special effects!\\nSO FRESH!\", '9h ago']]\n",
      "[['Michele M', \"How to finish a FANTASTIC saga.\\nEven if it's a bit boring all the time, nobody forgets the final battle, unforgettable !!!\\nGreat action sequences with unique special effects!\\nSO FRESH!\", '9h ago'], ['Connor C', 'An amazing ending to the infinity saga!', '17h ago']]\n",
      "[['Michele M', \"How to finish a FANTASTIC saga.\\nEven if it's a bit boring all the time, nobody forgets the final battle, unforgettable !!!\\nGreat action sequences with unique special effects!\\nSO FRESH!\", '9h ago'], ['Connor C', 'An amazing ending to the infinity saga!', '17h ago'], ['Connor C', \"A nearly flawless superhero movie, End Game is where my hopes for the franchise are fulfilled. It starts out depressing (understandably) but kicks it up a notch once time traveling starts. It's a nostalgic trip through the franchise in the middle. The finale, however, is both as epic in scale as the best scenes in Infinity War as it is fan service not seen on this scale since perhaps Return of the Jedi. I friggin' loved the last act - superb in every way. The only ding I have to give is the lackluster way Black Widow dies.\", '18h ago']]\n",
      "[['Michele M', \"How to finish a FANTASTIC saga.\\nEven if it's a bit boring all the time, nobody forgets the final battle, unforgettable !!!\\nGreat action sequences with unique special effects!\\nSO FRESH!\", '9h ago'], ['Connor C', 'An amazing ending to the infinity saga!', '17h ago'], ['Connor C', \"A nearly flawless superhero movie, End Game is where my hopes for the franchise are fulfilled. It starts out depressing (understandably) but kicks it up a notch once time traveling starts. It's a nostalgic trip through the franchise in the middle. The finale, however, is both as epic in scale as the best scenes in Infinity War as it is fan service not seen on this scale since perhaps Return of the Jedi. I friggin' loved the last act - superb in every way. The only ding I have to give is the lackluster way Black Widow dies.\", '18h ago'], ['Tim A', 'The movies to end the movies. Following 23 movies before it, it is the largest build-up of movie history. Truly a must-see', '2d ago']]\n",
      "[['Michele M', \"How to finish a FANTASTIC saga.\\nEven if it's a bit boring all the time, nobody forgets the final battle, unforgettable !!!\\nGreat action sequences with unique special effects!\\nSO FRESH!\", '9h ago'], ['Connor C', 'An amazing ending to the infinity saga!', '17h ago'], ['Connor C', \"A nearly flawless superhero movie, End Game is where my hopes for the franchise are fulfilled. It starts out depressing (understandably) but kicks it up a notch once time traveling starts. It's a nostalgic trip through the franchise in the middle. The finale, however, is both as epic in scale as the best scenes in Infinity War as it is fan service not seen on this scale since perhaps Return of the Jedi. I friggin' loved the last act - superb in every way. The only ding I have to give is the lackluster way Black Widow dies.\", '18h ago'], ['Tim A', 'The movies to end the movies. Following 23 movies before it, it is the largest build-up of movie history. Truly a must-see', '2d ago'], ['Slade W', 'low-key it was kinda mid', '3d ago']]\n",
      "[['Michele M', \"How to finish a FANTASTIC saga.\\nEven if it's a bit boring all the time, nobody forgets the final battle, unforgettable !!!\\nGreat action sequences with unique special effects!\\nSO FRESH!\", '9h ago'], ['Connor C', 'An amazing ending to the infinity saga!', '17h ago'], ['Connor C', \"A nearly flawless superhero movie, End Game is where my hopes for the franchise are fulfilled. It starts out depressing (understandably) but kicks it up a notch once time traveling starts. It's a nostalgic trip through the franchise in the middle. The finale, however, is both as epic in scale as the best scenes in Infinity War as it is fan service not seen on this scale since perhaps Return of the Jedi. I friggin' loved the last act - superb in every way. The only ding I have to give is the lackluster way Black Widow dies.\", '18h ago'], ['Tim A', 'The movies to end the movies. Following 23 movies before it, it is the largest build-up of movie history. Truly a must-see', '2d ago'], ['Slade W', 'low-key it was kinda mid', '3d ago'], ['Vidyapati P', 'The finale to the infinity saga that we needed. 21 movies of build-up led to this. The first half of the film revolves around getting the infinity stones. This part was a little boring, but we saw some development in some of the characters. The last hour of the movie is not only the best part of the movie but also the entire MCU. The movie lived up to the hype, but the start was a little boring. The quips and one-liners are kept to a minimum to carry the dark tone of the previous movie.', '4d ago']]\n",
      "[['Michele M', \"How to finish a FANTASTIC saga.\\nEven if it's a bit boring all the time, nobody forgets the final battle, unforgettable !!!\\nGreat action sequences with unique special effects!\\nSO FRESH!\", '9h ago'], ['Connor C', 'An amazing ending to the infinity saga!', '17h ago'], ['Connor C', \"A nearly flawless superhero movie, End Game is where my hopes for the franchise are fulfilled. It starts out depressing (understandably) but kicks it up a notch once time traveling starts. It's a nostalgic trip through the franchise in the middle. The finale, however, is both as epic in scale as the best scenes in Infinity War as it is fan service not seen on this scale since perhaps Return of the Jedi. I friggin' loved the last act - superb in every way. The only ding I have to give is the lackluster way Black Widow dies.\", '18h ago'], ['Tim A', 'The movies to end the movies. Following 23 movies before it, it is the largest build-up of movie history. Truly a must-see', '2d ago'], ['Slade W', 'low-key it was kinda mid', '3d ago'], ['Vidyapati P', 'The finale to the infinity saga that we needed. 21 movies of build-up led to this. The first half of the film revolves around getting the infinity stones. This part was a little boring, but we saw some development in some of the characters. The last hour of the movie is not only the best part of the movie but also the entire MCU. The movie lived up to the hype, but the start was a little boring. The quips and one-liners are kept to a minimum to carry the dark tone of the previous movie.', '4d ago'], ['James L', \"Didn't like the concept of travelling back in time, so never truly gripped. Series ends on a bit of a whimper.\", '5d ago']]\n",
      "[['Michele M', \"How to finish a FANTASTIC saga.\\nEven if it's a bit boring all the time, nobody forgets the final battle, unforgettable !!!\\nGreat action sequences with unique special effects!\\nSO FRESH!\", '9h ago'], ['Connor C', 'An amazing ending to the infinity saga!', '17h ago'], ['Connor C', \"A nearly flawless superhero movie, End Game is where my hopes for the franchise are fulfilled. It starts out depressing (understandably) but kicks it up a notch once time traveling starts. It's a nostalgic trip through the franchise in the middle. The finale, however, is both as epic in scale as the best scenes in Infinity War as it is fan service not seen on this scale since perhaps Return of the Jedi. I friggin' loved the last act - superb in every way. The only ding I have to give is the lackluster way Black Widow dies.\", '18h ago'], ['Tim A', 'The movies to end the movies. Following 23 movies before it, it is the largest build-up of movie history. Truly a must-see', '2d ago'], ['Slade W', 'low-key it was kinda mid', '3d ago'], ['Vidyapati P', 'The finale to the infinity saga that we needed. 21 movies of build-up led to this. The first half of the film revolves around getting the infinity stones. This part was a little boring, but we saw some development in some of the characters. The last hour of the movie is not only the best part of the movie but also the entire MCU. The movie lived up to the hype, but the start was a little boring. The quips and one-liners are kept to a minimum to carry the dark tone of the previous movie.', '4d ago'], ['James L', \"Didn't like the concept of travelling back in time, so never truly gripped. Series ends on a bit of a whimper.\", '5d ago'], ['Vit T', \"This film is one of the best superhero movie that I've ever watched. It show you what define a great hero and what to do and think to become a hero. The death of Tony Stark (Iron man) is a beautiful end line of a enormous journey that Marvel did and will delivery. This is just the beginning\", '6d ago']]\n",
      "[['Michele M', \"How to finish a FANTASTIC saga.\\nEven if it's a bit boring all the time, nobody forgets the final battle, unforgettable !!!\\nGreat action sequences with unique special effects!\\nSO FRESH!\", '9h ago'], ['Connor C', 'An amazing ending to the infinity saga!', '17h ago'], ['Connor C', \"A nearly flawless superhero movie, End Game is where my hopes for the franchise are fulfilled. It starts out depressing (understandably) but kicks it up a notch once time traveling starts. It's a nostalgic trip through the franchise in the middle. The finale, however, is both as epic in scale as the best scenes in Infinity War as it is fan service not seen on this scale since perhaps Return of the Jedi. I friggin' loved the last act - superb in every way. The only ding I have to give is the lackluster way Black Widow dies.\", '18h ago'], ['Tim A', 'The movies to end the movies. Following 23 movies before it, it is the largest build-up of movie history. Truly a must-see', '2d ago'], ['Slade W', 'low-key it was kinda mid', '3d ago'], ['Vidyapati P', 'The finale to the infinity saga that we needed. 21 movies of build-up led to this. The first half of the film revolves around getting the infinity stones. This part was a little boring, but we saw some development in some of the characters. The last hour of the movie is not only the best part of the movie but also the entire MCU. The movie lived up to the hype, but the start was a little boring. The quips and one-liners are kept to a minimum to carry the dark tone of the previous movie.', '4d ago'], ['James L', \"Didn't like the concept of travelling back in time, so never truly gripped. Series ends on a bit of a whimper.\", '5d ago'], ['Vit T', \"This film is one of the best superhero movie that I've ever watched. It show you what define a great hero and what to do and think to become a hero. The death of Tony Stark (Iron man) is a beautiful end line of a enormous journey that Marvel did and will delivery. This is just the beginning\", '6d ago'], ['Jack G', 'Absolute must see. Great closing to an great saga.', '6d ago']]\n",
      "[['Michele M', \"How to finish a FANTASTIC saga.\\nEven if it's a bit boring all the time, nobody forgets the final battle, unforgettable !!!\\nGreat action sequences with unique special effects!\\nSO FRESH!\", '9h ago'], ['Connor C', 'An amazing ending to the infinity saga!', '17h ago'], ['Connor C', \"A nearly flawless superhero movie, End Game is where my hopes for the franchise are fulfilled. It starts out depressing (understandably) but kicks it up a notch once time traveling starts. It's a nostalgic trip through the franchise in the middle. The finale, however, is both as epic in scale as the best scenes in Infinity War as it is fan service not seen on this scale since perhaps Return of the Jedi. I friggin' loved the last act - superb in every way. The only ding I have to give is the lackluster way Black Widow dies.\", '18h ago'], ['Tim A', 'The movies to end the movies. Following 23 movies before it, it is the largest build-up of movie history. Truly a must-see', '2d ago'], ['Slade W', 'low-key it was kinda mid', '3d ago'], ['Vidyapati P', 'The finale to the infinity saga that we needed. 21 movies of build-up led to this. The first half of the film revolves around getting the infinity stones. This part was a little boring, but we saw some development in some of the characters. The last hour of the movie is not only the best part of the movie but also the entire MCU. The movie lived up to the hype, but the start was a little boring. The quips and one-liners are kept to a minimum to carry the dark tone of the previous movie.', '4d ago'], ['James L', \"Didn't like the concept of travelling back in time, so never truly gripped. Series ends on a bit of a whimper.\", '5d ago'], ['Vit T', \"This film is one of the best superhero movie that I've ever watched. It show you what define a great hero and what to do and think to become a hero. The death of Tony Stark (Iron man) is a beautiful end line of a enormous journey that Marvel did and will delivery. This is just the beginning\", '6d ago'], ['Jack G', 'Absolute must see. Great closing to an great saga.', '6d ago'], ['jay p', 'a glorious film to conclude a glorious saga.', '6d ago']]\n"
     ]
    }
   ],
   "source": [
    "#create the empty list and string \n",
    "results=[]\n",
    "name=None\n",
    "review=None\n",
    "date=None\n",
    "\n",
    "#input the url to request function\n",
    "#status_code 200 indicates success\n",
    "#a status code >200 indicates a failure \n",
    "page=requests.get('https://www.rottentomatoes.com/m/avengers_endgame/reviews?type=user')\n",
    "if page.status_code==200:\n",
    "    \n",
    "#follow the path down to the div for each period   \n",
    "    soup=BeautifulSoup(page.content,'html.parser')\n",
    "    divs=soup.select('ul li.audience-reviews__item')\n",
    "        \n",
    "    for idx, div in enumerate(divs):\n",
    "        #get the name of audience\n",
    "        name_title=div.select('div.audience-reviews__user-wrap div.audience-reviews__name-wrap a.audience-reviews__name')\n",
    "        if name_title!=[]:\n",
    "            name1=name_title[0].get_text()\n",
    "            name=name1.strip()\n",
    "            #print(name)\n",
    "        \n",
    "        #get the review of audience\n",
    "        review_title=div.select('div.audience-reviews__review-wrap p.audience-reviews__review')\n",
    "        if review_title!=[]:\n",
    "            review=review_title[0].get_text()\n",
    "            #print(review)\n",
    "        \n",
    "        #get the date of audience\n",
    "        date_title=div.select('div.audience-reviews__review-wrap span.audience-reviews__duration')\n",
    "        if date_title!=[]:\n",
    "            date=date_title[0].get_text()\n",
    "            #print(date)\n",
    "            \n",
    "        #add name, review and date into a list \n",
    "        lst=[name,review,date]\n",
    "        if name!=None:\n",
    "            results.append(lst)\n",
    "            print(results)\n",
    "        \n",
    "    "
   ]
  },
  {
   "cell_type": "code",
   "execution_count": 47,
   "id": "c64cca61",
   "metadata": {},
   "outputs": [],
   "source": [
    "#convert the list to the excel\n",
    "import xlsxwriter\n",
    "with xlsxwriter.Workbook('2.xlsx') as workbook:\n",
    "    worksheet = workbook.add_worksheet()\n",
    "  \n",
    "    for row_num, data in enumerate(results):\n",
    "        worksheet.write_row(row_num, 0, data)"
   ]
  }
 ],
 "metadata": {
  "kernelspec": {
   "display_name": "Python 3 (ipykernel)",
   "language": "python",
   "name": "python3"
  },
  "language_info": {
   "codemirror_mode": {
    "name": "ipython",
    "version": 3
   },
   "file_extension": ".py",
   "mimetype": "text/x-python",
   "name": "python",
   "nbconvert_exporter": "python",
   "pygments_lexer": "ipython3",
   "version": "3.10.0"
  }
 },
 "nbformat": 4,
 "nbformat_minor": 5
}
