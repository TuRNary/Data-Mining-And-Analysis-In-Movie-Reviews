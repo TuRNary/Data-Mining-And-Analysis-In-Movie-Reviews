{
 "cells": [
  {
   "cell_type": "code",
   "execution_count": 1,
   "id": "23d70615",
   "metadata": {},
   "outputs": [],
   "source": [
    "#install the package I will use in web scraping \n",
    "from selenium import webdriver\n",
    "from selenium.webdriver.common.by import By\n",
    "from selenium.webdriver.support.ui import WebDriverWait\n",
    "from selenium.webdriver.support import expected_conditions\n",
    "import pandas as pd"
   ]
  },
  {
   "cell_type": "markdown",
   "id": "a13b60d0",
   "metadata": {},
   "source": [
    "find the path where you save the webdriver\n",
    "initial the driver"
   ]
  },
  {
   "cell_type": "code",
   "execution_count": 2,
   "id": "3b736a58",
   "metadata": {},
   "outputs": [
    {
     "name": "stderr",
     "output_type": "stream",
     "text": [
      "/var/folders/96/9l7zq5_x5bg_dxzqhk0wxmkh0000gn/T/ipykernel_66709/680532472.py:2: DeprecationWarning: executable_path has been deprecated, please pass in a Service object\n",
      "  driver = webdriver.Firefox(executable_path=executable_path)\n"
     ]
    }
   ],
   "source": [
    "executable_path = '/Users/yinzhihao/Desktop/geckodriver'\n",
    "driver = webdriver.Firefox(executable_path=executable_path)"
   ]
  },
  {
   "cell_type": "markdown",
   "id": "31f99184",
   "metadata": {},
   "source": [
    "**STEP**:first, define a function call `def func(url)`.\n",
    " Then, access the `url` of webiste we want to scrape.\n",
    " Next, find the `name`, `review` and `date` by tag,\n",
    " add the `name`, `review` and `date` to list"
   ]
  },
  {
   "cell_type": "code",
   "execution_count": 36,
   "id": "d1fc0ff9",
   "metadata": {},
   "outputs": [],
   "source": [
    "def func(url):\n",
    "    \n",
    "    import time\n",
    "    global element_list \n",
    "    element_list=[]\n",
    "    driver=webdriver.Firefox(executable_path=executable_path)\n",
    "    driver.get(url)\n",
    "    k = 0\n",
    "    #ra = []\n",
    "    while k<5:\n",
    "        driver.execute_script('window,scrollTo(0,document.body.scrollHeight)')\n",
    "        print('k: ', k)\n",
    "        name=driver.find_elements_by_css_selector('[data-qa=\"review-critic-link\"]')\n",
    "        comment=driver.find_elements_by_css_selector('[data-qa=\"review-text\"]')\n",
    "        date=driver.find_elements_by_css_selector('[data-qa=\"review-date\"]')\n",
    "        rate = driver.find_elements_by_css_selector('[class*=\"review_icon icon small\"]')\n",
    "        \n",
    "#         print('rate: ',len(rate))\n",
    "        for i in rate:\n",
    "            ra=i.get_attribute('class')\n",
    "            re_split=ra.split()\n",
    "            #print(re_split[-1])\n",
    "#             pass\n",
    "\n",
    "        more_link=driver.find_element_by_class_name(\"js-prev-next-paging-next\")\n",
    "\n",
    "        print('name: {}, comment: {}, date: {}',len(name),len(comment),len(date))\n",
    "        for i in range(len(name)):\n",
    "            ra = rate[i].get_attribute('class')\n",
    "            re_split=ra.split()\n",
    "            list = [name[i].text,comment[i].text,date[i].text,re_split[-1]]\n",
    "            element_list.append(list)\n",
    "            #element_list.append(date[i].text)\n",
    "\n",
    "        more_link.click()\n",
    "        k+=1\n",
    "        time.sleep(3)\n",
    "        \n",
    "    print(element_list)\n",
    "    print(len(element_list))\n",
    "    driver.quit()"
   ]
  },
  {
   "cell_type": "code",
   "execution_count": 65,
   "id": "42525c26",
   "metadata": {
    "scrolled": false
   },
   "outputs": [
    {
     "name": "stderr",
     "output_type": "stream",
     "text": [
      "/var/folders/96/9l7zq5_x5bg_dxzqhk0wxmkh0000gn/T/ipykernel_66709/2629901610.py:6: DeprecationWarning: executable_path has been deprecated, please pass in a Service object\n",
      "  driver=webdriver.Firefox(executable_path=executable_path)\n"
     ]
    },
    {
     "name": "stdout",
     "output_type": "stream",
     "text": [
      "k:  0\n"
     ]
    },
    {
     "name": "stderr",
     "output_type": "stream",
     "text": [
      "/var/folders/96/9l7zq5_x5bg_dxzqhk0wxmkh0000gn/T/ipykernel_66709/2629901610.py:13: DeprecationWarning: find_elements_by_* commands are deprecated. Please use find_elements() instead\n",
      "  name=driver.find_elements_by_css_selector('[data-qa=\"review-critic-link\"]')\n",
      "/var/folders/96/9l7zq5_x5bg_dxzqhk0wxmkh0000gn/T/ipykernel_66709/2629901610.py:14: DeprecationWarning: find_elements_by_* commands are deprecated. Please use find_elements() instead\n",
      "  comment=driver.find_elements_by_css_selector('[data-qa=\"review-text\"]')\n",
      "/var/folders/96/9l7zq5_x5bg_dxzqhk0wxmkh0000gn/T/ipykernel_66709/2629901610.py:15: DeprecationWarning: find_elements_by_* commands are deprecated. Please use find_elements() instead\n",
      "  date=driver.find_elements_by_css_selector('[data-qa=\"review-date\"]')\n",
      "/var/folders/96/9l7zq5_x5bg_dxzqhk0wxmkh0000gn/T/ipykernel_66709/2629901610.py:16: DeprecationWarning: find_elements_by_* commands are deprecated. Please use find_elements() instead\n",
      "  rate = driver.find_elements_by_css_selector('[class*=\"review_icon icon small\"]')\n",
      "/var/folders/96/9l7zq5_x5bg_dxzqhk0wxmkh0000gn/T/ipykernel_66709/2629901610.py:25: DeprecationWarning: find_element_by_* commands are deprecated. Please use find_element() instead\n",
      "  more_link=driver.find_element_by_class_name(\"js-prev-next-paging-next\")\n"
     ]
    },
    {
     "name": "stdout",
     "output_type": "stream",
     "text": [
      "name: {}, comment: {}, date: {} 20 20 20\n",
      "k:  1\n",
      "name: {}, comment: {}, date: {} 20 20 20\n",
      "k:  2\n",
      "name: {}, comment: {}, date: {} 20 20 20\n",
      "k:  3\n",
      "name: {}, comment: {}, date: {} 20 20 20\n",
      "k:  4\n",
      "name: {}, comment: {}, date: {} 20 20 20\n",
      "[['David Hogan', 'Another fine and heartfelt performance by Tom Holland and some really fun appearances from past Spider-Man film characters cover for a script that was clearly rushed and lacking in any solid direction.', 'May 2, 2022', 'fresh'], ['Carey-Ann Pawsey', 'Not only do you get the usual cool special effects that are typical of the genre but a fun trio of Spider-Mans, lots of humour and even emotions.', 'May 1, 2022', 'fresh'], ['Leigh Paatsch', 'You think you already have a PhD in all things Peter Parker and Spider-Man? A few shock twists and some sobering turns in No Way Home will have you questioning your credentials in the best possible way.', 'Apr 29, 2022', 'fresh'], ['Grant Watson', 'No Way Home is a busy, overly complicated, artificial movie, but it is also a superb new instalment of the Spider-Man saga.', 'Apr 22, 2022', 'fresh'], ['Pete Vonder Haar', '\"He fell into a vat of electric eels.\" \"Gotta be careful where you fall.\"', 'Apr 19, 2022', 'fresh'], ['Douglas Davidson', 'With the end of the latest adventure, \"No Way Home,\" Holland\\'s time as Spider-Man may be at its end, but its one which is deeply satisfying, a conclusion marking the end of the beginning and this Spider-Mans first steps into proper herodom.', 'Apr 12, 2022', 'fresh'], ['Jimmy Cage', 'SPIDER-MAN: NO WAY HOME actually manages to cleverly incorporate the old without neglecting its own themes and emotional impact. Its certainly a bit messy, but it also gets a lot of things right.', 'Apr 8, 2022', 'fresh'], ['Olivia Zayas Ryan', 'For Maguire and Garfield’s characters, the multiverse allows them a chance to make things right in the MCU.', 'Apr 1, 2022', 'fresh'], ['Alachia Queen', \"A silly plot with very little character growth for Peter Parker that douses the film in fan service in hopes that we don't notice.\", 'Mar 25, 2022', 'rotten'], ['Sukanya Verma', 'A brand new Spidey movie with bigger stakes, bigger spectacle...', 'Mar 22, 2022', 'fresh'], ['Yasser Medina', \"To my surprise, it's an entertaining sequel that hooks me, without reaching paroxysm, when it delivers the nostalgia-scented pyrotechnics of the friendly neighborhood spider that faces maturity. Full review in Spanish\", 'Mar 22, 2022', 'fresh'], ['Eddie Harrison', 'a polished piece of fan service accurately reflects the way pop-culture is eating itself right now', 'Mar 21, 2022', 'fresh'], ['Lissete Lanuza Sáenz', 'Purely as a superhero film, this film has no comparison.', 'Mar 18, 2022', 'fresh'], ['Rubén Rosario', 'The last half hour in particular feels like a collective group hug, leading to a bittersweet moment of rare delicacy for this franchise. It won over this frequent MCU dissenter.', 'Mar 10, 2022', 'fresh'], ['James Marsh', \"It was a fun rollercoaster that really honoured the fans. People who've been part of this ride for a long time will get a lot out of this movie. (Steve)\", 'Mar 9, 2022', 'fresh'], ['Jared Mobarak', 'The heart and drama that made Homecoming and Far From Home so good is replaced by a script hitting carefully crafted \"a-ha\" moments that feel more \"Martha\" than \"I love you 3,000.\" And that\\'s fine. This film is fine. But I worry about what\\'s next.', 'Mar 9, 2022', 'fresh'], ['Amanda Mazzillo', \"No Way Home creates a strong repertoire between characters leading to organic moments of comedy. This film is an important stage in Tom Holland's Spider-Man, allowing us to see glimpses to a Peter that we want to see\", 'Mar 8, 2022', 'fresh'], ['Jason Escamilla', 'Easily the best super hero film of 2021!', 'Feb 27, 2022', 'fresh'], ['Alex Hudson', 'Spider-Man: Into the Spider-Verse is possibly the best film of the superhero boom so why not do basically the exact same movie, except with real actors instead of computer animation?', 'Feb 24, 2022', 'fresh'], ['Collin Garbarino', 'Even though No Way Home is set in Disneys MCU, this movie manages to feel more like a love letter to fans of Sonys Spider-Man legacy. Most importantly, it resolves the previous installments cliffhanger.', 'Feb 15, 2022', 'fresh'], ['Lyra Hale', 'Spider-Man: No Way Home has cemented itself as one of my favorite movies ever.', 'Feb 15, 2022', 'fresh'], ['David Gonzalez', 'Spider-Man: No Way Home enters the pantheon of Marvel greats. Its a film that surpasses all expectations in ways you never knew you wanted but are ecstatic you got.', 'Feb 12, 2022', 'fresh'], ['Jeffrey Harris', 'In many ways, this is the most \"Spider-Man\" of any previous MCU outing, and Holland\\'s Peter truly becomes his own hero.', 'Feb 12, 2022', 'fresh'], ['Jeff Nelson', \"Spider-Man: No Way Home is a massive crowd-pleaser sure to excite fans for the rest of MCU's Phase 4.\", 'Feb 12, 2022', 'fresh'], ['Jo Berry', 'Tom Hollands third outing in the Spider-Man costume is the one weve all been waiting for an action-packed, well-thought out adventure that is what every comic book movie should be: fun.', 'Feb 11, 2022', 'fresh'], ['Mark Jackson', 'It is ironically though cartoon movies that some of the most vast and heretofore obscured secrets of the cosmos are being revealed. Spider-verses and Multiverses indeed.', 'Feb 8, 2022', 'fresh'], ['Caffeinated Clint', 'A gripping, tense, fun, heartfelt, surprisingly touching, and very nostalgic love letter to Lee and Ditkos Amazing Spider-Man.', 'Feb 8, 2022', 'fresh'], ['Rosa Parra', 'A fun and entertaining entry to the MCU. Fan service to the max, but brilliantly executed.', 'Jan 25, 2022', 'fresh'], ['Samuel R. Murrian', \"Designed above all else to make an audience cheer with excitement. But is there much more than that? If there's one film that aligns with the controversial auteur assessment that superhero films are more amusement park ride than cinema, it's this.\", 'Jan 24, 2022', 'rotten'], ['Matthew Passantino', '\"Spider-Man: No Way From Home\" is the best example of what superhero movies can be.', 'Jan 21, 2022', 'fresh'], ['Jackie K. Cooper', 'Enough surprises and twists to keep you entertained royally.', 'Jan 19, 2022', 'fresh'], ['Brett McCracken', 'For all its entertaining merits, Spider-Man: No Way Home felt to me more like a low-stakes trifle than a thrilling epic.', 'Jan 18, 2022', 'fresh'], ['Louisa Moore', 'Delivers what most audiences crave: a good time at the movies.', 'Jan 15, 2022', 'fresh'], ['Hosea Rupprecht', 'Tom Holland gives one of the best performances of his life.', 'Jan 14, 2022', 'fresh'], ['Michael Calleri', 'Somewhere along the production line, it was decided to go big or go home, or not go home considering the title. Everything has to be louder, crazier, and over-the-top.', 'Jan 14, 2022', 'rotten'], ['Jeremy Aspinall', 'Despite its epic length, the film breezes along...', 'Jan 13, 2022', 'fresh'], ['Filipe Freitas', 'What makes this Spider-Man so satisfying comes in large measure from the lucidity of the narrative, the quality of the villains, and an enjoyable balance of action, humor and emotion.', 'Jan 8, 2022', 'fresh'], ['Josh Larsen', '...a reminder that screenplays are as crucial to superhero movies as casting and special effects.', 'Jan 8, 2022', 'rotten'], ['Tony Baker', \"i personally feel like this Spider-Man is the best Spider-Man film that's ever been made.\", 'Jan 7, 2022', 'fresh'], ['Steven D. Greydanus', 'Crossover comfort food with a redemptive twist.', 'Jan 7, 2022', 'fresh'], ['Tim Brayton', '[A] robotic recombination of \"do you remember that?\" elements assembled with an almost complete lack of proficiency or grace.', 'Jan 6, 2022', 'rotten'], ['Víctor López G.', 'A bloated 148 minute adventure that just fills in the gaps left by its trailers with less hook than one would expect.', 'Jan 5, 2022', 'rotten'], ['Mark Meszoros', 'Even though it has a bit of a pacing issue before its universes-altering climactic stretch, it is another largely entertaining ride - one with an ending that should resonate with viewers and have lasting implications.', 'Jan 4, 2022', 'fresh'], ['Matt Hudson', 'Whilst not perfect and carrying a fairly thin narrative, No Way Home eventually surges to life and gives fans of the MCU, Spider-Man and blockbusters one hell of a ride.', 'Jan 4, 2022', 'fresh'], ['Kristen Maldonado', 'Epic and action-packed.', 'Jan 3, 2022', 'fresh'], ['Jorge Loser', 'Manages to turn it around in one piece thanks to a wonderful team of actors. [Full review in Spanish]', 'Jan 3, 2022', 'fresh'], ['Murjani Rawls', '\\'No Way Home\\' has a good amount of \"do you remember when\" ranging through the entire Spider-Man movie pantheon. But is a good end to Peter\\'s MCU arc.', 'Jan 3, 2022', 'fresh'], ['Susan Granger', 'Action-packed, nostalgic hit, jump-starting theater-going despite the Omicron variant.', 'Jan 3, 2022', 'fresh'], ['Shaun Munro', \"While clunky storytelling and middling direction prevent Spider-Man: No Way Home from becoming the MCU's first great Spider-Man movie, this is for the most part an inspired take on the oft-cynical fan service-rife sequels flooding Hollywood these days.\", 'Jan 2, 2022', 'fresh'], ['Stephen Silver', \"There are mixed results, with some fascinating ideas mixed in with fan service up the wazoo, although other choices don't work at all\", 'Dec 31, 2021', 'fresh'], ['Nabila Hatimy', 'The film is definitely a treat for Spidey fans as it is full of surprises and gives us an opportunity to see old faces we never thought we would see on the franchise again.', 'Dec 30, 2021', 'fresh'], ['Lisa Nesselson', 'I think Holland is incredibly talented...', 'Dec 30, 2021', 'fresh'], ['Sameen Amer', \"Touching, exciting, and amusing, the MCU's 27th offering easily ranks among the franchise's most satisfying episodes.\", 'Dec 30, 2021', 'fresh'], ['Herb Scribner', \"It's the must-see film of the winter season without question. It will break you, put you back together and break you again.\", 'Dec 29, 2021', 'fresh'], ['Amanda Reimer', 'One of the most awaited films in recent memory just hit the big screen, and for once, it delivered on every promise that fans dug up one rumor or leak after another.', 'Dec 29, 2021', 'fresh'], ['Brady Langmann', 'Director Jon Watts gives the ultimate celebration of what makes Peter Parker Spider-Man, and vice versa.', 'Dec 29, 2021', 'fresh'], ['Liz Shannon Miller', \"Throughout all of it, the weird and complex history of Spider-Man as a cinematic icon isn't a hindrance to the story; instead, it's an enhancement, using the quirks of the character's legacy as a source of illumination into why he has endured so long.\", 'Dec 29, 2021', 'fresh'], ['Scott Campbell', 'Given the sheer scope of the narrative, you can virtually hear the film creaking under the weight of its own ambition more than once, but for the most part, it delivers on a gargantuan scale.', 'Dec 29, 2021', 'fresh'], ['Aniruddho Chakraborty', 'To its credit, No Way Home weaves together stories, characters, moments and icons of more than two decades, to deliver applause and cheers that reverberate just as loud in half-empty, post-pandemic cinema halls.', 'Dec 29, 2021', 'fresh'], ['Suchin Mehrotra', \"Shaky plot aside, No Way Home relies on the customary steady stream of explosions, pre-visualized fight scenes, and eager-to-please humour to keep things going, ensuring there's never a dull moment, but rarely a great one.\", 'Dec 29, 2021', 'fresh'], ['Allegra Frank', 'The movie allows for a surprisingly impactful reappraisal of a long-held Spidey franchise consensus.', 'Dec 29, 2021', 'fresh'], ['Anupama Chopra', 'This film is fan service at its best because even us, casual lovers, can enjoy the ride.', 'Dec 29, 2021', 'fresh'], ['Bernard Boo', 'While No Way Home is but a cog in a larger movie-making machine, it stands on its own as a wonderful third entry in a series that is primed to usher the younger generation of audiences into the future of the ever-expanding MCU.', 'Dec 29, 2021', 'fresh'], ['Pradeep Menon', \"Full credit to the film that, despite it feeling unwieldy at times, it manages to ensure too many villains don't end up spoiling the broth.\", 'Dec 29, 2021', 'fresh'], ['Jack Pooley', 'No Way Home is a testament to how enjoyable the \"legacy sequel\" can be when it respects what came before without letting it upstage the new(er) characters.', 'Dec 29, 2021', 'fresh'], ['Olly Richards', 'Holland has always been a great Spider-Man but he ascends to a new level here.', 'Dec 29, 2021', 'fresh'], ['Kate Rodger', \"I love Holland in the suit, and I've liked the first two films quite a bit. But this? THIS??? Nothing quite prepared me for this.\", 'Dec 29, 2021', 'fresh'], ['Eli Glasner', 'When the dust settles, the result is a hero closer to what creators Stan Lee and Steve Ditko originally envisioned. Friendly. Neighbourhood. Spider-Man.', 'Dec 29, 2021', 'fresh'], ['Sherin Nicole', 'Spider-Man: No Way Home is the test of what it means to be a hero and what it costs...This movie has a heartbeat.', 'Dec 29, 2021', 'fresh'], ['Sarah Knight Adamson', 'Devoted fans will relish in the quick-witted script, revisiting the past and looking to the future as this popcorn-munching movie is an excellent ride till the end.', 'Dec 29, 2021', 'fresh'], ['Tia Bailey', 'Nostalgia and redemption make up Spider-Man: No Way Home, the latest release from the Marvel Cinematic Universe, and possibly the best movie from the franchise yet.', 'Dec 29, 2021', 'fresh'], ['Tom Meek', \"It's a pretty well-woven mashup that never stops spinning; it's only spider-bite deep and good senseless fun.\", 'Dec 28, 2021', 'fresh'], ['Peter Canavese', \"Cracking open the multi-verse in the MCU and keeping the fans happy. Almost a remake of the 'Into The Spider-verse' animated movie with virtually the same gimmick.\", 'Dec 28, 2021', 'fresh'], ['Damian Levy', 'Dafoe and Molina are the scene stealers in the movie, with a special mention to Dafoe for bringing back the terror he gave me at the age of 6.', 'Dec 28, 2021', 'fresh'], ['Jason Gorber', \"With Tom Holland, Zendaya and a cast of (many) other characters, our semi-spoilery take on Peter Parker's latest adventure shows what happens when the past literally collides with the present.\", 'Dec 27, 2021', 'fresh'], ['Pablo Villaça', 'Much more interested in maintaining a strong connection (and the consequent marketing potential) between all its movies/products, Marvel cant afford to allow any trace of authorship or imagination in its individual projects. [Full review in Portuguese]', 'Dec 27, 2021', 'rotten'], ['Steven Prokopy', 'It concludes the trilogy that began with Homecoming so perfectly that whatever comes next is going to feel like something entirely new.', 'Dec 27, 2021', 'fresh'], ['Kent Garrison', 'More Spider-Man, please! Always more Spider-Man.', 'Dec 26, 2021', 'fresh'], ['David Nusair', '...the most satisfying Spidey adventure since the Sam Raimi era.', 'Dec 25, 2021', 'fresh'], ['Michael Ward', 'Fantastic, thrilling, and surprisingly emotional.', 'Dec 24, 2021', 'fresh'], ['Wade Major', \"I won't say I was bored, but it's wall-to-wall fan service. It's almost like a sitcom.\", 'Dec 24, 2021', 'rotten'], ['Christy Lemire', \"This movie's a total blast, but it's also surprisingly emotional at times, too.\", 'Dec 24, 2021', 'fresh'], ['Terence Johnson', \"This sort of well meaning, but poorly executed approach leads what could be interesting, to feel like nothing but fan service that doesn't do anything worthwhile for the previous stories or this one.\", 'Dec 23, 2021', 'rotten'], ['Sean Chandler', 'The second half is so good and satisfying that you forget that the first half is pretty mediocre.', 'Dec 23, 2021', 'fresh'], ['Alison Gillmor', \"Most of all, it's just enthusiastic, contagious fun.\", 'Dec 23, 2021', 'fresh'], ['Nandini Ramnath', 'Liberated from his mask and fully free to emote, Tom Holland is excellent as the pocket-sized hero...', 'Dec 23, 2021', 'fresh'], ['Neil Soans', \"Although it's easy to follow the film independently, knowledge of the previous Spider-Man films only enriches this sweeping experience.\", 'Dec 23, 2021', 'fresh'], ['Mike Ryan', 'I felt some actual emotion, even with all this chaos swirling around. And in the end Spider-Man: No Way Home somehow finds a way to keep it all together.', 'Dec 23, 2021', 'fresh'], ['Shawn Edwards', \"Great storytelling with an emotional payoff...and Holland's boyish charm seals the deal.\", 'Dec 23, 2021', 'fresh'], ['Nicolás Delgadillo', \"This movie is a commemoration of everything about Peter Parker that people have loved for so long, and for all its flaws, it still delivers on what's most important.\", 'Dec 23, 2021', 'fresh'], ['Saibal Chatterjee', \"Benedict Cumberbatch and Willem Dafoe frequently threaten to run away with the film. To Tom Holland's credit, he holds his ground. The competition is no less fierce from Zendaya.\", 'Dec 23, 2021', 'fresh'], ['Jonathan W. Hickman', 'This is a film that is impossible not to like. Fans will shed tears, but those emotions are more due to our collective investment in the character, who has dominated the box office over the last 19 years.', 'Dec 22, 2021', 'fresh'], ['Ruth Maramis', \"No Way Home is a great example of 'fan service' done right. An exciting crowd pleaser with redemptive qualities & genuine emotional resonance that can break through even the most bombastic action sequences.\", 'Dec 22, 2021', 'fresh'], ['Nick Johnston', 'No Way Home just wants what the other films in the series had without the understanding or meaning, fully cognizant of its position as a cog in a larger machine that has no time or patience for any of that.', 'Dec 22, 2021', 'rotten'], ['Jaby Koay', 'The ending touches me every single time.', 'Dec 22, 2021', 'fresh'], ['Rich Cline', 'What holds the attention is the strongly character-based writing, which allows a smart, gifted cast to bring texture and nuance even when things get chaotic.', 'Dec 22, 2021', 'fresh'], ['Robert Roten', 'This film is overloaded with characters, conflicts, role-reversals and complications. It is impressive filmmaking to make such an unwieldy plot work as well as it does. It helps to have good actors and a top flight team of visual effects people.', 'Dec 22, 2021', 'fresh'], ['Chris Wasser', 'A witty, energetic and surprisingly moving display that soars higher than most of its predecessors.', 'Dec 22, 2021', 'fresh'], ['Achara Kirk', 'A fantastic experience with an audience.', 'Dec 22, 2021', 'fresh'], ['Tori Preston', 'The fact that the movie works as well as it does is all the more impressive considering just how many cameos, easter eggs, and general fan servicey stuff it has to serve up in the midst of having, you know, a plot.', 'Dec 22, 2021', 'fresh']]\n",
      "100\n"
     ]
    }
   ],
   "source": [
    "func(url='https://www.rottentomatoes.com/m/spider_man_no_way_home/reviews')"
   ]
  },
  {
   "cell_type": "code",
   "execution_count": 66,
   "id": "2ba779e5",
   "metadata": {},
   "outputs": [],
   "source": [
    "#convert the list to excel\n",
    "import xlsxwriter\n",
    "with xlsxwriter.Workbook('result_spider_man_no_way_home.xlsx') as workbook:\n",
    "    worksheet = workbook.add_worksheet()\n",
    "  \n",
    "    for row_num, data in enumerate(element_list):\n",
    "        worksheet.write_row(row_num, 0, data)"
   ]
  }
 ],
 "metadata": {
  "kernelspec": {
   "display_name": "Python 3 (ipykernel)",
   "language": "python",
   "name": "python3"
  },
  "language_info": {
   "codemirror_mode": {
    "name": "ipython",
    "version": 3
   },
   "file_extension": ".py",
   "mimetype": "text/x-python",
   "name": "python",
   "nbconvert_exporter": "python",
   "pygments_lexer": "ipython3",
   "version": "3.9.7"
  }
 },
 "nbformat": 4,
 "nbformat_minor": 5
}
