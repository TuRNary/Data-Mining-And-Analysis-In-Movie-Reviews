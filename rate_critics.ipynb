{
 "cells": [
  {
   "cell_type": "code",
   "execution_count": 3,
   "id": "66e0ab3a",
   "metadata": {},
   "outputs": [
    {
     "name": "stdout",
     "output_type": "stream",
     "text": [
      "page 1\n"
     ]
    }
   ],
   "source": [
    "from bs4 import BeautifulSoup\n",
    "import re\n",
    "import time\n",
    "import requests\n",
    "import csv\n",
    "\n",
    "\n",
    "def run(name):\n",
    "    pageNum = 3\n",
    "    url_1 = 'https://www.rottentomatoes.com/m/iron_man/reviews' \n",
    "    url = url_1 + str(name) + '/reviews/'\n",
    "    fw=open('reviews.csv','w',encoding='utf8') # output file\n",
    "\n",
    "    writer=csv.writer(fw,lineterminator='\\n')#create a csv writer for this file\n",
    "    \n",
    "    for p in range(1,pageNum+1): # for each page \n",
    "\n",
    "        print ('page',p)\n",
    "        html=None\n",
    "\n",
    "        if p==1: pageLink=url # url for page 1\n",
    "        else: pageLink=url+'?type=&sort=&page='+str(p)# make the page url\n",
    "        \n",
    "        for i in range(5): # try 5 times\n",
    "\n",
    "            #send a request to access the url\n",
    "            response=requests.get(pageLink,headers = { 'User-Agent': 'Mozilla/5.0 (Windows NT 6.1) AppleWebKit/537.36 (KHTML, like Gecko) Chrome/41.0.2228.0 Safari/537.36', })\n",
    "            if response: # explanation on response codes: https://realpython.com/python-requests/#status-codes\n",
    "                break # we got the file, break the loop\n",
    "            else:time.sleep(2) # wait 2 secs\n",
    "            \n",
    "   \n",
    "        # all five attempts failed, return  None\n",
    "        if not response: return None\n",
    "        \n",
    "        html=response.text# read in the text from the file\n",
    "        \n",
    "        soup = BeautifulSoup(html,'html') # parse the html \n",
    "\n",
    "        reviews=soup.findAll('div', {'class':'row review_table_row'}) # get all the review divs\n",
    "        \n",
    "        critic, rating, source, text, date ='NA','NA','NA','NA','NA' # initialize critic and text         \n",
    "        \n",
    "        for review in reviews:\n",
    "            criticChunk=review.find('a',{'href':re.compile('/critic/')})\n",
    "            if criticChunk: critic=criticChunk.text.strip()\n",
    "    \n",
    "            ratingChunk = review.find('div',{'class': re.compile('review_icon')})\n",
    "            rating_Chunk = str(ratingChunk)\n",
    "            if (rating_Chunk.find('rotten')>0):\n",
    "                rating = 'rotten'\n",
    "            if (rating_Chunk.find('fresh')>0):\n",
    "                rating= 'fresh'\n",
    "\n",
    "            sourceChunk = review.find('em',{'class': 'subtle critic-publication'})\n",
    "            if sourceChunk: source = sourceChunk.text.strip() \n",
    "            \n",
    "            textChunk=review.find('div',{'class':'the_review'})\n",
    "            if textChunk: text=textChunk.text.strip()\n",
    "        \n",
    "            dateChunk = review.find('div',{'class':'review-date'})\n",
    "            if dateChunk: date = dateChunk.text.strip()\n",
    "            \n",
    "            writer.writerow([critic, rating, source, text, date])\n",
    "    fw.close()\n",
    "    \n",
    "run('titanic')   "
   ]
  },
  {
   "cell_type": "code",
   "execution_count": null,
   "id": "34687c96",
   "metadata": {},
   "outputs": [],
   "source": []
  },
  {
   "cell_type": "code",
   "execution_count": null,
   "id": "6c960aeb",
   "metadata": {},
   "outputs": [],
   "source": []
  }
 ],
 "metadata": {
  "kernelspec": {
   "display_name": "Python 3 (ipykernel)",
   "language": "python",
   "name": "python3"
  },
  "language_info": {
   "codemirror_mode": {
    "name": "ipython",
    "version": 3
   },
   "file_extension": ".py",
   "mimetype": "text/x-python",
   "name": "python",
   "nbconvert_exporter": "python",
   "pygments_lexer": "ipython3",
   "version": "3.10.0"
  }
 },
 "nbformat": 4,
 "nbformat_minor": 5
}
